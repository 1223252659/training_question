{
 "cells": [
  {
   "cell_type": "code",
   "execution_count": 5,
   "metadata": {},
   "outputs": [],
   "source": [
    "import cv2\n",
    "import numpy as np\n",
    "import matplotlib.pyplot as plt\n",
    "from scipy import ndimage as ndi\n",
    "from skimage.filters import roberts\n",
    "cap = cv2.VideoCapture('.\\\\task1.mp4')\n",
    "task = np.copy(cap)\n",
    "ret,frame=cap.read()\n",
    "h, w = frame.shape[:2]\n",
    "#存储视频（暂有问题）\n",
    "fps = 30   #视频帧率\n",
    "size = (int(cap.get(cv2.CAP_PROP_FRAME_WIDTH)), int(cap.get(cv2.CAP_PROP_FRAME_HEIGHT)))\n",
    "video_w = cv2.VideoWriter(\"result.avi\",  cv2.VideoWriter_fourcc('M', 'J', 'P', 'G'),fps,size)   \n",
    "while True:\n",
    "    ret, frame = cap.read()\n",
    "    if ret == False:\n",
    "        break\n",
    "    hsv = cv2.cvtColor(frame, cv2.COLOR_BGR2HSV)\n",
    "    green_min = np.array([35, 128, 46])\n",
    "    green_max = np.array([77, 255, 255])\n",
    "    thresh = cv2.inRange(hsv,green_min,green_max)\n",
    "    #高斯除噪\n",
    "    thresh = cv2.GaussianBlur(thresh,(5,5),0)\n",
    "    #开运算\n",
    "    kernel = np.ones((6,6),np.uint8)  \n",
    "    thresh = cv2.morphologyEx(thresh, cv2.MORPH_OPEN, kernel)\n",
    "    #最小外接正矩形\n",
    "    x, y, w, h = cv2.boundingRect(thresh)\n",
    "    cv2.rectangle(frame, (x, y), (x+w, y+h), (0, 0, 255), 2)\n",
    "    #添加标注\n",
    "    cv2.putText(frame, 'green', (x,y-10), cv2.FONT_HERSHEY_COMPLEX, 1, (0,255,0),2)\n",
    "    video_w.write(frame)\n",
    "    cv2.imshow('Result',frame)\n",
    "    if cv2.waitKey(30) == 27:\n",
    "        break\n",
    "video_w.release()\n",
    "cap.release()\n",
    "cv2.destroyAllWindows()\n",
    "\n",
    "#创建腐蚀和膨胀核\n",
    "#kernel = np.ones((6,6),np.uint8)  \n",
    "#开运算\n",
    "#thresh = cv2.morphologyEx(thresh, cv2.MORPH_OPEN, kernel)\n",
    "#闭运算\n",
    "#thresh = cv2.morphologyEx(thresh, cv2.MORPH_CLOSE, kernel)\n",
    "#腐蚀图像       \n",
    "#thresh=cv2.erode(thresh,kernel)\n",
    "#膨胀图像    \n",
    "#thresh = cv2.dilate(thresh,kernel)\n",
    "#寻找边界\n",
    "#contours, hierarchy = cv2.findContours(thresh, cv2.RETR_EXTERNAL, cv2.CHAIN_APPROX_SIMPLE)"
   ]
  },
  {
   "cell_type": "code",
   "execution_count": null,
   "metadata": {},
   "outputs": [],
   "source": []
  }
 ],
 "metadata": {
  "kernelspec": {
   "display_name": "Python 3",
   "language": "python",
   "name": "python3"
  },
  "language_info": {
   "codemirror_mode": {
    "name": "ipython",
    "version": 3
   },
   "file_extension": ".py",
   "mimetype": "text/x-python",
   "name": "python",
   "nbconvert_exporter": "python",
   "pygments_lexer": "ipython3",
   "version": "3.7.2"
  }
 },
 "nbformat": 4,
 "nbformat_minor": 2
}
